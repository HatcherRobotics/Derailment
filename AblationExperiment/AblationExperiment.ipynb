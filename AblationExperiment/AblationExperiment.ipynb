{
 "cells": [
  {
   "cell_type": "markdown",
   "source": [
    "1.ModernICNet\n",
    "2.ModernICNet --res drop the res connection after conv_s and ffn_c ffn_v add a res after the whole block\n",
    "3.ModernTCN --res drop like 2 replace IsometricConv with common Conv1d\n",
    "4.ICNet --drop channel_dim\n",
    "5.ModernICNet-BN+LN --replace bn with ln\n",
    "6.ModernICnet-ConvFNN+MlpFNN --replace ConvFNN with MLP "
   ],
   "metadata": {
    "collapsed": false
   },
   "id": "f4c2043708ace9c1"
  },
  {
   "cell_type": "code",
   "execution_count": null,
   "outputs": [],
   "source": [],
   "metadata": {
    "collapsed": false
   },
   "id": "b9f7eda070b9149e"
  }
 ],
 "metadata": {
  "kernelspec": {
   "display_name": "Python 3",
   "language": "python",
   "name": "python3"
  },
  "language_info": {
   "codemirror_mode": {
    "name": "ipython",
    "version": 2
   },
   "file_extension": ".py",
   "mimetype": "text/x-python",
   "name": "python",
   "nbconvert_exporter": "python",
   "pygments_lexer": "ipython2",
   "version": "2.7.6"
  }
 },
 "nbformat": 4,
 "nbformat_minor": 5
}
