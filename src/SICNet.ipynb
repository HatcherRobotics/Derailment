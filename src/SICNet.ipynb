{
 "cells": [
  {
   "cell_type": "code",
   "execution_count": 1,
   "id": "initial_id",
   "metadata": {
    "collapsed": true,
    "ExecuteTime": {
     "end_time": "2023-12-16T13:50:12.882964200Z",
     "start_time": "2023-12-16T13:50:07.500958900Z"
    }
   },
   "outputs": [],
   "source": [
    "import pandas as pd\n",
    "import numpy as np\n",
    "import torch\n",
    "import torch.utils.data as Data\n",
    "import torch.nn as nn\n",
    "import torch.optim as optim\n",
    "import math\n",
    "import matplotlib.pyplot as plt\n",
    "from sklearn.preprocessing import StandardScaler\n",
    "from sklearn.model_selection import train_test_split\n",
    "from torch.autograd import Variable\n",
    "from sklearn import metrics"
   ]
  },
  {
   "cell_type": "code",
   "execution_count": 2,
   "outputs": [
    {
     "name": "stdout",
     "output_type": "stream",
     "text": [
      "(227406, 100, 3)\n",
      "(227406,)\n"
     ]
    }
   ],
   "source": [
    "class my_Dataset(Data.Dataset):\n",
    "    def __init__(self, features, labels):\n",
    "        self.X = features\n",
    "        self.y = labels\n",
    "\n",
    "    def __getitem__(self, index):\n",
    "        return self.X[index], self.y[index]\n",
    "\n",
    "    def __len__(self):\n",
    "        return self.X.shape[0]\n",
    "\n",
    "class WheelRailTrajectoryDataset:\n",
    "    def __init__(self,label=3):\n",
    "        standard_scaler = StandardScaler()\n",
    "        self.raw_data1 = pd.read_csv(\"../dataset/curve_R400.csv\")\n",
    "        self.raw_data2 = pd.read_csv(\"../dataset/curve_R1000.csv\")\n",
    "        self.raw_data3 = pd.read_csv(\"../dataset/curve_R2000.csv\")\n",
    "        self.raw_data4 = pd.read_csv(\"../dataset/curve_R3000.csv\")\n",
    "        self.raw_data5 = pd.read_csv(\"../dataset/curve_R4000.csv\")\n",
    "        self.raw_data6 = pd.read_csv(\"../dataset/curve_R5000.csv\")\n",
    "        self.raw_data = pd.concat([self.raw_data1,self.raw_data2,self.raw_data3,self.raw_data4,self.raw_data5,self.raw_data6])\n",
    "        self.label = label\n",
    "        #标准化\n",
    "        self.data = standard_scaler.fit_transform(self.raw_data)\n",
    "        self.mean = standard_scaler.mean_[label]\n",
    "        self.sd = math.sqrt(standard_scaler.var_[label])\n",
    "\n",
    "\n",
    "    def construct_set(self, train_por=0.6,val_por=0.2,test_por=0.2, window_size=100):\n",
    "        X = []\n",
    "        Y = []\n",
    "        list = [self.raw_data1.shape[0],self.raw_data2.shape[0],self.raw_data3.shape[0],self.raw_data4.shape[0],self.raw_data5.shape[0],self.raw_data6.shape[0]]\n",
    "        num = 0\n",
    "        for j in range(len(list)):\n",
    "            if j!=0:\n",
    "                num = num+list[j-1]\n",
    "            for i in range(list[j]-window_size):\n",
    "                seq = self.data[num+i:num+i+window_size+1]\n",
    "                X.append(seq[0:window_size,:self.label])\n",
    "                y = seq[window_size:window_size+1,self.label]\n",
    "                if(y>0.6 or y<-0.6):\n",
    "                    Y.append(1)\n",
    "                else:\n",
    "                    Y.append(0)\n",
    "        X = np.array(X)\n",
    "        Y = np.array(Y)\n",
    "        print(X.shape)\n",
    "        print(Y.shape)\n",
    "        train_x,test_x,train_y,test_y = train_test_split(X,Y,test_size=test_por,train_size=train_por+val_por,shuffle=True)\n",
    "        train_x,val_x,train_y,val_y =  train_test_split(train_x,train_y,test_size=val_por/(val_por+train_por),train_size=train_por/(val_por+train_por),shuffle=True)\n",
    "\n",
    "        train_set = my_Dataset(torch.Tensor(train_x), torch.Tensor(train_y))\n",
    "        val_set = my_Dataset(torch.Tensor(val_x), torch.Tensor(val_y))\n",
    "        test_set = my_Dataset(torch.Tensor(test_x), torch.Tensor(test_y))\n",
    "        return train_set, val_set, test_set\n",
    "\n",
    "TrajectoryData = WheelRailTrajectoryDataset()\n",
    "train_set, val_set, test_set = TrajectoryData.construct_set()\n",
    "batch_size = 256\n",
    "train_loader = Data.DataLoader(train_set, batch_size=batch_size, shuffle=True, num_workers=0, drop_last=True)\n",
    "val_loader = Data.DataLoader(val_set, batch_size=batch_size, shuffle=False, num_workers=0, drop_last=True)\n",
    "test_loader = Data.DataLoader(test_set, batch_size=batch_size, shuffle=False, num_workers=0, drop_last=True)"
   ],
   "metadata": {
    "collapsed": false,
    "ExecuteTime": {
     "end_time": "2023-12-16T13:50:20.143080800Z",
     "start_time": "2023-12-16T13:50:19.113252800Z"
    }
   },
   "id": "7041bed99d897dc9"
  },
  {
   "cell_type": "code",
   "execution_count": 3,
   "outputs": [],
   "source": [
    "class PositionalEncoding(nn.Module):\n",
    "    \"Implement the PE function.\"\n",
    "    def __init__(self, d_model,seq_len = 100):\n",
    "        super(PositionalEncoding, self).__init__()\n",
    "        # Compute the positional encodings once in log space.\n",
    "        pe = torch.zeros(seq_len, d_model+1)\n",
    "        #维数 seq_len X d_model\n",
    "        position = torch.arange(0, seq_len).unsqueeze(1) #  维数 seq_lenX1\n",
    "        div_term = torch.exp(torch.arange(0, d_model, 2) * -(math.log(10000.0) / d_model))\n",
    "        #维数 dmodel/2\n",
    "        pe[:, 0::2] = torch.sin(position * div_term)\n",
    "        #维数 seq_len X dmodel/2\n",
    "        pe[:, 1::2] = torch.cos(position * div_term)\n",
    "        pe = pe.unsqueeze(0)\n",
    "        #维数 1Xseq_lenXd_model\n",
    "        self.register_buffer('pe', pe)\n",
    "\n",
    "    def forward(self, x):\n",
    "        # x batch_size X seq_len X num_features\n",
    "        #print(\"x:\",x.shape)\n",
    "        #print(\"pe:\",self.pe.shape)\n",
    "        x = x + Variable(self.pe[:,:,:x.shape[-1]], requires_grad=False)\n",
    "        return x"
   ],
   "metadata": {
    "collapsed": false,
    "ExecuteTime": {
     "end_time": "2023-12-16T13:50:22.475914200Z",
     "start_time": "2023-12-16T13:50:22.472389800Z"
    }
   },
   "id": "9e31ab94ed227e25"
  },
  {
   "cell_type": "code",
   "execution_count": 4,
   "outputs": [],
   "source": [
    "class Splitting(nn.Module):\n",
    "    # B D L \n",
    "    def __init__(self):\n",
    "        super(Splitting, self).__init__()\n",
    "\n",
    "    def even(self, x):\n",
    "        return x[:, :, ::2]\n",
    "\n",
    "    def odd(self, x):\n",
    "        return x[:, :, 1::2]\n",
    "\n",
    "    def forward(self, x):\n",
    "        '''Returns the odd and even part'''\n",
    "        return (self.even(x), self.odd(x))"
   ],
   "metadata": {
    "collapsed": false,
    "ExecuteTime": {
     "end_time": "2023-12-16T13:50:24.094411100Z",
     "start_time": "2023-12-16T13:50:24.092813800Z"
    }
   },
   "id": "6f385e55fea992d7"
  },
  {
   "cell_type": "code",
   "execution_count": 5,
   "outputs": [],
   "source": [
    "class SampleIsometricConvBlock(nn.Module):\n",
    "    def __init__(self,variable_dim,ffn_dim,seq_len):\n",
    "        super(SampleIsometricConvBlock, self).__init__()\n",
    "        self.A = nn.Conv1d(in_channels=variable_dim, out_channels=variable_dim,\n",
    "                           kernel_size=seq_len//2,padding=0,stride=1,groups=variable_dim)\n",
    "        self.B = nn.Conv1d(in_channels=variable_dim, out_channels=variable_dim,\n",
    "                           kernel_size=seq_len//2,padding=0,stride=1,groups=variable_dim)\n",
    "        self.C = nn.Conv1d(in_channels=variable_dim, out_channels=variable_dim,\n",
    "                           kernel_size=seq_len//2,padding=0,stride=1,groups=variable_dim)\n",
    "        self.D = nn.Conv1d(in_channels=variable_dim, out_channels=variable_dim,\n",
    "                           kernel_size=seq_len//2,padding=0,stride=1,groups=variable_dim)\n",
    "        self.ffn = nn.Sequential(\n",
    "            nn.Conv1d(in_channels=variable_dim, out_channels=ffn_dim,padding='same',kernel_size=1),\n",
    "            nn.GELU(),\n",
    "            nn.Conv1d(in_channels=ffn_dim, out_channels=variable_dim,padding='same',kernel_size=1),\n",
    "            nn.Tanh()\n",
    "        )\n",
    "        self.norm_1 = nn.LayerNorm(variable_dim)\n",
    "        self.norm_2 = nn.LayerNorm(variable_dim)\n",
    "        self.split = Splitting()\n",
    "        \n",
    "    def conv(self,x,conv_module):\n",
    "        zeros = torch.zeros((x.shape[0], x.shape[1], x.shape[2]-1),device='cuda')\n",
    "        x = torch.cat((zeros, x), dim=-1)\n",
    "        out = conv_module(x)\n",
    "        return out\n",
    "    \n",
    "    def forward(self,x):\n",
    "        #B L D\n",
    "        residual = x\n",
    "        x  = x.permute(0,2,1)\n",
    "        start_even, start_odd = self.split(x)\n",
    "        mid_odd = start_odd.mul(torch.exp(self.conv(start_even,self.A)))\n",
    "        mid_even = start_even.mul(torch.exp(self.conv(start_odd,self.B)))\n",
    "        end_odd = mid_odd - self.conv(mid_even,self.C)\n",
    "        end_even = mid_even - self.conv(mid_odd,self.D)\n",
    "        # batch_size feature seq_len\n",
    "        y = torch.zeros((x.shape[0], x.shape[1], x.shape[2]),device='cuda')\n",
    "        y[:,:,1::2] = end_odd\n",
    "        y[:,:,::2] = end_even\n",
    "        y = y.permute(0,2,1)\n",
    "        y = self.norm_1(y + residual)\n",
    "        residual = y\n",
    "        y = y.permute(0,2,1)\n",
    "        z = self.ffn(y)\n",
    "        z = z.permute(0,2,1)\n",
    "        out = self.norm_2(z + residual)\n",
    "        return out        "
   ],
   "metadata": {
    "collapsed": false,
    "ExecuteTime": {
     "end_time": "2023-12-16T13:50:25.213626700Z",
     "start_time": "2023-12-16T13:50:25.208113400Z"
    }
   },
   "id": "96c5ab51b2546f45"
  },
  {
   "cell_type": "code",
   "execution_count": 9,
   "outputs": [],
   "source": [
    "class SICNet(nn.Module):\n",
    "    def __init__(self,num_i,feature_dim,mlp_dim,seq_len):\n",
    "        super(SICNet,self).__init__()\n",
    "        self.pe = PositionalEncoding(3)\n",
    "        self.IsometricConvList = nn.ModuleList([SampleIsometricConvBlock(feature_dim,mlp_dim,seq_len) for _ in range(num_i)])\n",
    "        self.channel_interaction = nn.Sequential(\n",
    "            nn.Linear(in_features=feature_dim,out_features=feature_dim*16),\n",
    "            nn.GELU(),\n",
    "            nn.Linear(in_features=feature_dim*16,out_features=1),\n",
    "            nn.Dropout(0.1)\n",
    "        )\n",
    "        self.classifier = nn.Sequential(\n",
    "            nn.Linear(in_features=seq_len,out_features=seq_len//2),\n",
    "            nn.GELU(),\n",
    "            nn.Linear(in_features=seq_len//2,out_features=2),\n",
    "            nn.Sigmoid()\n",
    "        )\n",
    "        self.norm = nn.LayerNorm(feature_dim)\n",
    "\n",
    "    def forward(self,x):\n",
    "        x = x+self.pe(x)\n",
    "        residual = x\n",
    "        for Iblock in self.IsometricConvList:\n",
    "            i_features = Iblock(x)\n",
    "        i_features = self.norm(i_features+residual)\n",
    "        y = self.channel_interaction(i_features).squeeze()\n",
    "        y = self.classifier(y)\n",
    "        return y"
   ],
   "metadata": {
    "collapsed": false,
    "ExecuteTime": {
     "end_time": "2023-12-16T13:52:14.878281800Z",
     "start_time": "2023-12-16T13:52:14.872710600Z"
    }
   },
   "id": "136e48b8e5cdec86"
  },
  {
   "cell_type": "code",
   "execution_count": 7,
   "outputs": [],
   "source": [
    "def evaluate_accuracy(data_iter, net, loss,device=\"cuda\"):\n",
    "    acc_sum, n = 0.0, 0\n",
    "    test_l_sum = 0.0\n",
    "    for X, y in data_iter:\n",
    "        X = X.to(device)\n",
    "        y = y.to(device)\n",
    "        y_hat = net(X)\n",
    "        y_hat = y_hat.squeeze()\n",
    "        acc_sum += (y_hat.argmax(dim=1) == y).sum().item()\n",
    "        l = loss(y_hat, y.long()).sum()\n",
    "        test_l_sum += l.item()\n",
    "        n += y.shape[0]\n",
    "    return acc_sum/n, test_l_sum/n\n",
    "\n",
    "def train(net,train_iter,val_iter,loss,num_epochs,optimizer,device=\"cuda\"):\n",
    "    net.train()\n",
    "    train_loss=[]\n",
    "    val_loss=[]\n",
    "    train_accuracy=[]\n",
    "    val_accuracy=[]\n",
    "    val_acc_best = 1e-9\n",
    "    for epoch in range(num_epochs):\n",
    "        train_l_sum,train_acc_sum,n=0.0,0.0,0\n",
    "        for X,y in train_iter:\n",
    "            X = X.to(device)\n",
    "            #print(\"X:\",X.shape)\n",
    "            y = y.to(device)\n",
    "            #print(\"y:\",y.shape) \n",
    "            y_hat = net(X)\n",
    "            #print(\"y_hat:\",y_hat.shape)\n",
    "            #y_hat = y_hat.squeeze()\n",
    "            #print(\"y_hat_squeeze:\",y_hat.shape)\n",
    "            l=loss(y_hat,y.long()).sum()\n",
    "            optimizer.zero_grad()\n",
    "            l.backward()\n",
    "            optimizer.step()\n",
    "            train_l_sum+=l.item()\n",
    "            train_acc_sum+=(y_hat.argmax(dim=1)==y).sum().item()\n",
    "            n+=y.shape[0]\n",
    "        net.eval()\n",
    "        val_acc,val_l = evaluate_accuracy(val_iter,net,loss)\n",
    "        net.train()\n",
    "        train_loss.append(train_l_sum/n)\n",
    "        val_loss.append(val_l)\n",
    "        train_accuracy.append(train_acc_sum/n)\n",
    "        val_accuracy.append(val_acc)\n",
    "        if(val_acc>val_acc_best):\n",
    "            val_acc_best = val_acc\n",
    "            train_loss_best = train_l_sum/n\n",
    "            train_acc_best = train_acc_sum/n\n",
    "            epoch_best = epoch\n",
    "            torch.save(net.state_dict(),\"../weights/SICNet_best.pt\")\n",
    "        print('epoch%d,loss%.4f,train acc %3f,val acc %.3f'%(epoch+1,train_l_sum/n,train_acc_sum/n,val_acc))\n",
    "    print(\"best weight was found in epoch%d,where the train loss is %.4f,train acc is %3f,val acc is %.3f\"%(epoch_best,train_loss_best,train_acc_best,val_acc_best))\n",
    "    return train_loss,val_loss,train_accuracy,val_accuracy\n",
    "\n",
    "\n",
    "def visualization(train_loss,val_loss,train_accuracy,val_accuracy):\n",
    "    plt.figure(1)\n",
    "    x1=np.linspace(0,len(train_loss),len(train_loss))\n",
    "    plt.plot(x1,train_loss,label='train_loss',linewidth=1.5)\n",
    "    plt.plot(x1,val_loss,label='test_loss',linewidth=1.5)\n",
    "    plt.xlabel(\"epoch\")\n",
    "    plt.ylabel(\"loss\")\n",
    "    plt.legend()\n",
    "    plt.show()\n",
    "\n",
    "    plt.figure(2)\n",
    "    x2 = np.linspace(0,len(train_accuracy),len(train_accuracy))\n",
    "    plt.plot(x2,train_accuracy,label='train_accuracy',linewidth=1.5)\n",
    "    plt.plot(x2,val_accuracy,label='val_accuracy',linewidth=1.5)\n",
    "    plt.xlabel(\"epoch\")\n",
    "    plt.ylabel(\"accuracy\")\n",
    "    plt.legend()\n",
    "    plt.show()"
   ],
   "metadata": {
    "collapsed": false,
    "ExecuteTime": {
     "end_time": "2023-12-16T13:50:27.148754100Z",
     "start_time": "2023-12-16T13:50:27.143737400Z"
    }
   },
   "id": "b3ecc5f3cd42678d"
  },
  {
   "cell_type": "code",
   "execution_count": 12,
   "outputs": [],
   "source": [
    "device = torch.device(\"cuda\")\n",
    "lr = 0.0001\n",
    "epochs=150\n",
    "loss=nn.CrossEntropyLoss()\n",
    "net = SICNet(3,3,32,100)\n",
    "net.to(device)\n",
    "optimizer=optim.Adam(net.parameters(),lr)"
   ],
   "metadata": {
    "collapsed": false,
    "ExecuteTime": {
     "end_time": "2023-12-16T13:53:48.469447300Z",
     "start_time": "2023-12-16T13:53:48.437911300Z"
    }
   },
   "id": "11fd5cd853231255"
  },
  {
   "cell_type": "code",
   "execution_count": 13,
   "outputs": [
    {
     "name": "stdout",
     "output_type": "stream",
     "text": [
      "epoch1,loss0.0023,train acc 0.687654,val acc 0.778\n",
      "epoch2,loss0.0020,train acc 0.788189,val acc 0.799\n",
      "epoch3,loss0.0019,train acc 0.802052,val acc 0.814\n",
      "epoch4,loss0.0019,train acc 0.818110,val acc 0.829\n",
      "epoch5,loss0.0018,train acc 0.828712,val acc 0.837\n",
      "epoch6,loss0.0018,train acc 0.835857,val acc 0.845\n",
      "epoch7,loss0.0018,train acc 0.838449,val acc 0.849\n",
      "epoch8,loss0.0018,train acc 0.842759,val acc 0.843\n",
      "epoch9,loss0.0018,train acc 0.831392,val acc 0.850\n",
      "epoch10,loss0.0018,train acc 0.845094,val acc 0.847\n",
      "epoch11,loss0.0018,train acc 0.845321,val acc 0.854\n",
      "epoch12,loss0.0018,train acc 0.847039,val acc 0.829\n",
      "epoch13,loss0.0018,train acc 0.847282,val acc 0.851\n",
      "epoch14,loss0.0018,train acc 0.849169,val acc 0.857\n",
      "epoch15,loss0.0018,train acc 0.850131,val acc 0.848\n",
      "epoch16,loss0.0018,train acc 0.849396,val acc 0.858\n",
      "epoch17,loss0.0018,train acc 0.852099,val acc 0.861\n",
      "epoch18,loss0.0018,train acc 0.853677,val acc 0.862\n",
      "epoch19,loss0.0018,train acc 0.850968,val acc 0.857\n",
      "epoch20,loss0.0018,train acc 0.853883,val acc 0.858\n",
      "epoch21,loss0.0018,train acc 0.853934,val acc 0.863\n",
      "epoch22,loss0.0018,train acc 0.854419,val acc 0.864\n",
      "epoch23,loss0.0018,train acc 0.854522,val acc 0.852\n",
      "epoch24,loss0.0018,train acc 0.855226,val acc 0.862\n",
      "epoch25,loss0.0018,train acc 0.855953,val acc 0.861\n",
      "epoch26,loss0.0017,train acc 0.857627,val acc 0.866\n",
      "epoch27,loss0.0017,train acc 0.857716,val acc 0.865\n",
      "epoch28,loss0.0017,train acc 0.858281,val acc 0.866\n",
      "epoch29,loss0.0017,train acc 0.857980,val acc 0.869\n",
      "epoch30,loss0.0017,train acc 0.859933,val acc 0.866\n",
      "epoch31,loss0.0017,train acc 0.860190,val acc 0.858\n",
      "epoch32,loss0.0017,train acc 0.858523,val acc 0.864\n",
      "epoch33,loss0.0017,train acc 0.858641,val acc 0.864\n",
      "epoch34,loss0.0017,train acc 0.860352,val acc 0.854\n",
      "epoch35,loss0.0017,train acc 0.860131,val acc 0.870\n",
      "epoch36,loss0.0017,train acc 0.860638,val acc 0.870\n",
      "epoch37,loss0.0017,train acc 0.861725,val acc 0.871\n",
      "epoch38,loss0.0017,train acc 0.862672,val acc 0.872\n",
      "epoch39,loss0.0017,train acc 0.862297,val acc 0.870\n",
      "epoch40,loss0.0017,train acc 0.861842,val acc 0.872\n",
      "epoch41,loss0.0017,train acc 0.862371,val acc 0.857\n",
      "epoch42,loss0.0017,train acc 0.861952,val acc 0.869\n",
      "epoch43,loss0.0017,train acc 0.862121,val acc 0.872\n",
      "epoch44,loss0.0017,train acc 0.863267,val acc 0.872\n",
      "epoch45,loss0.0017,train acc 0.863054,val acc 0.870\n",
      "epoch46,loss0.0017,train acc 0.864786,val acc 0.866\n",
      "epoch47,loss0.0017,train acc 0.863046,val acc 0.869\n",
      "epoch48,loss0.0017,train acc 0.862701,val acc 0.869\n",
      "epoch49,loss0.0017,train acc 0.864552,val acc 0.869\n",
      "epoch50,loss0.0017,train acc 0.863876,val acc 0.867\n",
      "epoch51,loss0.0018,train acc 0.853707,val acc 0.870\n",
      "epoch52,loss0.0017,train acc 0.862966,val acc 0.866\n",
      "epoch53,loss0.0017,train acc 0.863839,val acc 0.874\n",
      "epoch54,loss0.0017,train acc 0.865814,val acc 0.874\n",
      "epoch55,loss0.0017,train acc 0.862929,val acc 0.876\n",
      "epoch56,loss0.0017,train acc 0.866483,val acc 0.873\n",
      "epoch57,loss0.0017,train acc 0.865345,val acc 0.869\n",
      "epoch58,loss0.0017,train acc 0.866314,val acc 0.873\n",
      "epoch59,loss0.0017,train acc 0.866688,val acc 0.861\n",
      "epoch60,loss0.0017,train acc 0.866842,val acc 0.869\n",
      "epoch61,loss0.0017,train acc 0.867599,val acc 0.869\n",
      "epoch62,loss0.0017,train acc 0.866710,val acc 0.872\n",
      "epoch63,loss0.0017,train acc 0.863200,val acc 0.872\n",
      "epoch64,loss0.0017,train acc 0.867606,val acc 0.878\n",
      "epoch65,loss0.0017,train acc 0.866585,val acc 0.854\n",
      "epoch66,loss0.0018,train acc 0.855542,val acc 0.819\n",
      "epoch67,loss0.0018,train acc 0.848339,val acc 0.865\n",
      "epoch68,loss0.0017,train acc 0.865998,val acc 0.877\n",
      "epoch69,loss0.0017,train acc 0.867966,val acc 0.874\n",
      "epoch70,loss0.0017,train acc 0.867635,val acc 0.876\n",
      "epoch71,loss0.0017,train acc 0.867687,val acc 0.872\n",
      "epoch72,loss0.0017,train acc 0.868685,val acc 0.875\n",
      "epoch73,loss0.0017,train acc 0.869199,val acc 0.878\n",
      "epoch74,loss0.0017,train acc 0.857782,val acc 0.871\n",
      "epoch75,loss0.0017,train acc 0.870242,val acc 0.877\n",
      "epoch76,loss0.0017,train acc 0.869596,val acc 0.877\n",
      "epoch77,loss0.0017,train acc 0.869522,val acc 0.874\n",
      "epoch78,loss0.0017,train acc 0.868443,val acc 0.876\n",
      "epoch79,loss0.0017,train acc 0.867753,val acc 0.876\n",
      "epoch80,loss0.0017,train acc 0.870631,val acc 0.874\n",
      "epoch81,loss0.0017,train acc 0.866196,val acc 0.866\n",
      "epoch82,loss0.0017,train acc 0.864045,val acc 0.874\n",
      "epoch83,loss0.0017,train acc 0.870235,val acc 0.876\n",
      "epoch84,loss0.0017,train acc 0.868693,val acc 0.877\n",
      "epoch85,loss0.0017,train acc 0.868179,val acc 0.875\n",
      "epoch86,loss0.0017,train acc 0.870264,val acc 0.874\n",
      "epoch87,loss0.0017,train acc 0.870624,val acc 0.878\n",
      "epoch88,loss0.0017,train acc 0.872489,val acc 0.877\n",
      "epoch89,loss0.0017,train acc 0.869589,val acc 0.879\n",
      "epoch90,loss0.0017,train acc 0.872166,val acc 0.876\n",
      "epoch91,loss0.0017,train acc 0.870653,val acc 0.878\n",
      "epoch92,loss0.0017,train acc 0.871799,val acc 0.881\n",
      "epoch93,loss0.0017,train acc 0.871777,val acc 0.872\n",
      "epoch94,loss0.0017,train acc 0.868252,val acc 0.863\n",
      "epoch95,loss0.0017,train acc 0.865976,val acc 0.879\n",
      "epoch96,loss0.0017,train acc 0.870521,val acc 0.878\n",
      "epoch97,loss0.0017,train acc 0.870103,val acc 0.863\n",
      "epoch98,loss0.0017,train acc 0.869310,val acc 0.876\n",
      "epoch99,loss0.0017,train acc 0.869868,val acc 0.878\n",
      "epoch100,loss0.0017,train acc 0.872195,val acc 0.880\n",
      "epoch101,loss0.0017,train acc 0.871219,val acc 0.883\n",
      "epoch102,loss0.0017,train acc 0.870404,val acc 0.880\n",
      "epoch103,loss0.0017,train acc 0.870418,val acc 0.881\n",
      "epoch104,loss0.0017,train acc 0.872570,val acc 0.883\n",
      "epoch105,loss0.0017,train acc 0.870235,val acc 0.875\n",
      "epoch106,loss0.0017,train acc 0.873054,val acc 0.881\n",
      "epoch107,loss0.0017,train acc 0.871725,val acc 0.878\n",
      "epoch108,loss0.0017,train acc 0.873274,val acc 0.874\n",
      "epoch109,loss0.0017,train acc 0.873392,val acc 0.882\n",
      "epoch110,loss0.0017,train acc 0.866145,val acc 0.876\n",
      "epoch111,loss0.0017,train acc 0.872158,val acc 0.882\n",
      "epoch112,loss0.0017,train acc 0.873032,val acc 0.873\n",
      "epoch113,loss0.0017,train acc 0.873025,val acc 0.884\n",
      "epoch114,loss0.0017,train acc 0.873803,val acc 0.881\n",
      "epoch115,loss0.0017,train acc 0.874236,val acc 0.878\n",
      "epoch116,loss0.0017,train acc 0.875360,val acc 0.882\n",
      "epoch117,loss0.0017,train acc 0.867738,val acc 0.881\n",
      "epoch118,loss0.0017,train acc 0.875734,val acc 0.882\n",
      "epoch119,loss0.0017,train acc 0.860388,val acc 0.879\n",
      "epoch120,loss0.0017,train acc 0.875059,val acc 0.884\n",
      "epoch121,loss0.0017,train acc 0.874435,val acc 0.872\n",
      "epoch122,loss0.0017,train acc 0.875955,val acc 0.885\n",
      "epoch123,loss0.0017,train acc 0.875441,val acc 0.884\n",
      "epoch124,loss0.0017,train acc 0.869750,val acc 0.882\n",
      "epoch125,loss0.0017,train acc 0.867966,val acc 0.878\n",
      "epoch126,loss0.0017,train acc 0.877342,val acc 0.885\n",
      "epoch127,loss0.0017,train acc 0.874479,val acc 0.886\n",
      "epoch128,loss0.0017,train acc 0.875529,val acc 0.883\n",
      "epoch129,loss0.0017,train acc 0.877717,val acc 0.886\n",
      "epoch130,loss0.0017,train acc 0.872973,val acc 0.884\n",
      "epoch131,loss0.0017,train acc 0.877834,val acc 0.884\n",
      "epoch132,loss0.0017,train acc 0.878774,val acc 0.888\n",
      "epoch133,loss0.0017,train acc 0.877166,val acc 0.880\n",
      "epoch134,loss0.0017,train acc 0.876865,val acc 0.878\n",
      "epoch135,loss0.0017,train acc 0.876821,val acc 0.878\n",
      "epoch136,loss0.0017,train acc 0.876226,val acc 0.876\n",
      "epoch137,loss0.0017,train acc 0.877849,val acc 0.886\n",
      "epoch138,loss0.0017,train acc 0.878657,val acc 0.886\n",
      "epoch139,loss0.0017,train acc 0.879082,val acc 0.880\n",
      "epoch140,loss0.0017,train acc 0.879215,val acc 0.879\n",
      "epoch141,loss0.0017,train acc 0.873414,val acc 0.885\n",
      "epoch142,loss0.0017,train acc 0.872136,val acc 0.888\n",
      "epoch143,loss0.0017,train acc 0.880632,val acc 0.887\n",
      "epoch144,loss0.0017,train acc 0.859735,val acc 0.883\n",
      "epoch145,loss0.0017,train acc 0.880529,val acc 0.888\n",
      "epoch146,loss0.0017,train acc 0.879185,val acc 0.877\n",
      "epoch147,loss0.0017,train acc 0.876667,val acc 0.890\n",
      "epoch148,loss0.0017,train acc 0.880595,val acc 0.887\n",
      "epoch149,loss0.0017,train acc 0.879530,val acc 0.891\n",
      "epoch150,loss0.0017,train acc 0.880925,val acc 0.889\n",
      "best weight was found in epoch148,where the train loss is 0.0017,train acc is 0.879530,val acc is 0.891\n"
     ]
    }
   ],
   "source": [
    "train_loss,val_loss,train_accuracy,val_accuracy=train(net,train_loader,val_loader,loss,epochs,optimizer)"
   ],
   "metadata": {
    "collapsed": false,
    "ExecuteTime": {
     "end_time": "2023-12-16T14:02:54.049871600Z",
     "start_time": "2023-12-16T13:53:49.348035500Z"
    }
   },
   "id": "d4f3a22f00ae965e"
  },
  {
   "cell_type": "code",
   "execution_count": 14,
   "outputs": [
    {
     "data": {
      "text/plain": "<Figure size 640x480 with 1 Axes>",
      "image/png": "[encoded data removed]"
     },
     "metadata": {},
     "output_type": "display_data"
    },
    {
     "data": {
      "text/plain": "<Figure size 640x480 with 1 Axes>",
      "image/png": "[encoded data removed]"
     },
     "metadata": {},
     "output_type": "display_data"
    }
   ],
   "source": [
    "visualization(train_loss,val_loss,train_accuracy,val_accuracy)"
   ],
   "metadata": {
    "collapsed": false,
    "ExecuteTime": {
     "end_time": "2023-12-16T14:03:21.968450700Z",
     "start_time": "2023-12-16T14:03:21.766386800Z"
    }
   },
   "id": "fdb37fd492d97b9b"
  },
  {
   "cell_type": "code",
   "execution_count": 15,
   "outputs": [
    {
     "name": "stdout",
     "output_type": "stream",
     "text": [
      "Accuracy on test dataset :0.883\n"
     ]
    }
   ],
   "source": [
    "net.load_state_dict(torch.load(\"../weights/SICNet_best.pt\"))\n",
    "test_acc,_ = evaluate_accuracy(test_loader,net,loss)\n",
    "print(\"Accuracy on test dataset :%.3f\"%(test_acc))"
   ],
   "metadata": {
    "collapsed": false,
    "ExecuteTime": {
     "end_time": "2023-12-16T14:03:27.291696Z",
     "start_time": "2023-12-16T14:03:26.273246100Z"
    }
   },
   "id": "508f0ade870dfacb"
  },
  {
   "cell_type": "code",
   "execution_count": 16,
   "outputs": [
    {
     "name": "stdout",
     "output_type": "stream",
     "text": [
      "test precision: 0.8593959889772964  test recall: 0.8571963103554618  test f1_score: 0.8577531669348042\n"
     ]
    }
   ],
   "source": [
    "def evaluate_PR(data_iter, net, loss,device=\"cuda\"):\n",
    "    n = 0\n",
    "    precision_sum,recall_sum,f1_score_sum = 0.0,0.0,0.0\n",
    "    test_l_sum = 0.0\n",
    "    for X, y in data_iter:\n",
    "        X = X.to(device)\n",
    "        y = y.to(device)\n",
    "        y_hat = net(X)\n",
    "        l = loss(y_hat, y.long()).sum()\n",
    "        y_hat = y_hat.argmax(dim=1)\n",
    "        y_hat = y_hat.squeeze().cpu().detach().numpy()\n",
    "        y = y.cpu().detach().numpy()\n",
    "        precision_sum += metrics.precision_score(y,y_hat)\n",
    "        recall_sum += metrics.recall_score(y,y_hat)\n",
    "        f1_score_sum += metrics.f1_score(y,y_hat)\n",
    "        test_l_sum += l.item()\n",
    "        #n += y.shape[0]\n",
    "        n+=1\n",
    "    return precision_sum/n,recall_sum/n,f1_score_sum/n\n",
    "test_precision,test_recall,test_f1_score = evaluate_PR(test_loader,net,loss)\n",
    "print(\"test precision:\",test_precision,\" test recall:\",test_recall,\" test f1_score:\",test_f1_score)"
   ],
   "metadata": {
    "collapsed": false,
    "ExecuteTime": {
     "end_time": "2023-12-16T14:03:29.389784600Z",
     "start_time": "2023-12-16T14:03:28.197325200Z"
    }
   },
   "id": "29c24eb43260ebec"
  },
  {
   "cell_type": "code",
   "execution_count": null,
   "outputs": [],
   "source": [],
   "metadata": {
    "collapsed": false
   },
   "id": "4e2cfda5360e1c8c"
  }
 ],
 "metadata": {
  "kernelspec": {
   "display_name": "Python 3",
   "language": "python",
   "name": "python3"
  },
  "language_info": {
   "codemirror_mode": {
    "name": "ipython",
    "version": 2
   },
   "file_extension": ".py",
   "mimetype": "text/x-python",
   "name": "python",
   "nbconvert_exporter": "python",
   "pygments_lexer": "ipython2",
   "version": "2.7.6"
  }
 },
 "nbformat": 4,
 "nbformat_minor": 5
}
